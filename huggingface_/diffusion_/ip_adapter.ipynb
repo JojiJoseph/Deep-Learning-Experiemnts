{
 "cells": [
  {
   "cell_type": "code",
   "execution_count": null,
   "metadata": {},
   "outputs": [],
   "source": [
    "from diffusers import AutoPipelineForText2Image\n",
    "from diffusers.utils import load_image\n",
    "import torch\n",
    "\n",
    "pipeline = AutoPipelineForText2Image.from_pretrained(\"stabilityai/stable-diffusion-xl-base-1.0\", torch_dtype=torch.float16).to(\"cuda\")\n",
    "pipeline.load_ip_adapter(\"h94/IP-Adapter\", subfolder=\"sdxl_models\", weight_name=\"ip-adapter_sdxl.bin\")\n",
    "pipeline.set_ip_adapter_scale(0.6)"
   ]
  },
  {
   "cell_type": "code",
   "execution_count": null,
   "metadata": {},
   "outputs": [],
   "source": [
    "image = load_image(\"https://huggingface.co/datasets/huggingface/documentation-images/resolve/main/diffusers/ip_adapter_diner.png\")\n",
    "generator = torch.Generator(device=\"cpu\").manual_seed(0)\n",
    "images = pipeline(\n",
    "    prompt=\"a polar bear sitting in a chair drinking a milkshake\",\n",
    "    ip_adapter_image=image,\n",
    "    negative_prompt=\"deformed, ugly, wrong proportion, low res, bad anatomy, worst quality, low quality\",\n",
    "    num_inference_steps=100,\n",
    "    generator=generator,\n",
    ").images\n",
    "image, images[0]"
   ]
  },
  {
   "cell_type": "code",
   "execution_count": null,
   "metadata": {},
   "outputs": [],
   "source": [
    "image = load_image(\"https://huggingface.co/datasets/huggingface/documentation-images/resolve/main/diffusers/ip_adapter_diner.png\")\n",
    "generator = torch.Generator(device=\"cpu\").manual_seed(0)\n",
    "images = pipeline(\n",
    "    prompt=[\"a class room\", \"a jail\", \"a hospital\", \"a restaurant\", \"a kitchen\"],\n",
    "    ip_adapter_image=[image]*5,\n",
    "    # negative_prompt=\"deformed, ugly, wrong proportion, low res, bad anatomy, worst quality, low quality\",\n",
    "    num_inference_steps=20,\n",
    "    generator=generator,\n",
    ").images\n",
    "import matplotlib.pyplot as plt\n",
    "for image_ in images:\n",
    "    plt.imshow(image_)\n",
    "    plt.show()"
   ]
  },
  {
   "cell_type": "code",
   "execution_count": null,
   "metadata": {},
   "outputs": [],
   "source": [
    "image = load_image(\"https://media.overstockart.com/cache/data/product_images/LDV1911-1000x1000.jpg\")\n",
    "generator = torch.Generator(device=\"cpu\").manual_seed(0)\n",
    "images = pipeline(\n",
    "    prompt=\"statue of liberty\",\n",
    "    ip_adapter_image=image,\n",
    "    negative_prompt=\"deformed, ugly, wrong proportion, low res, bad anatomy, worst quality, low quality\",\n",
    "    num_inference_steps=100,\n",
    "    generator=generator,\n",
    ").images\n",
    "images[0]\n",
    "plt.subplot(1, 2, 1)\n",
    "plt.imshow(image)\n",
    "plt.subplot(1, 2, 2)\n",
    "plt.imshow(images[0])\n",
    "plt.show()"
   ]
  },
  {
   "cell_type": "code",
   "execution_count": null,
   "metadata": {},
   "outputs": [],
   "source": [
    "import torch\n",
    "from diffusers import StableDiffusionPipeline, DDIMScheduler\n",
    "from diffusers.utils import load_image\n",
    "\n",
    "pipeline = StableDiffusionPipeline.from_pretrained(\n",
    "    \"runwayml/stable-diffusion-v1-5\",\n",
    "    torch_dtype=torch.float16,\n",
    ").to(\"cuda\")\n",
    "pipeline.scheduler = DDIMScheduler.from_config(pipeline.scheduler.config)\n",
    "pipeline.load_ip_adapter(\"h94/IP-Adapter\", subfolder=\"models\", weight_name=\"ip-adapter-full-face_sd15.bin\")\n",
    "\n",
    "pipeline.set_ip_adapter_scale(0.6)\n",
    "\n",
    "image_to_be_adapted = load_image(\"https://huggingface.co/datasets/huggingface/documentation-images/resolve/main/diffusers/ip_adapter_einstein_base.png\")\n",
    "generator = torch.Generator(device=\"cpu\").manual_seed(0)\n",
    "\n",
    "image = pipeline(\n",
    "    prompt=\"A photo of Einstein as a programmer, typing code in his laptop, Full view\",\n",
    "    ip_adapter_image=image_to_be_adapted,\n",
    "    negative_prompt=\"lowres, bad anatomy, worst quality, low quality\",\n",
    "    num_inference_steps=100,\n",
    "    generator=generator,\n",
    ").images[0]\n",
    "import matplotlib.pyplot as plt\n",
    "plt.subplot(1, 2, 1)\n",
    "plt.imshow(image_to_be_adapted)\n",
    "plt.subplot(1, 2, 2)\n",
    "plt.imshow(image)\n",
    "plt.show()"
   ]
  },
  {
   "cell_type": "code",
   "execution_count": null,
   "metadata": {},
   "outputs": [],
   "source": [
    "import diffusers\n",
    "diffusers.__version__"
   ]
  }
 ],
 "metadata": {
  "kernelspec": {
   "display_name": "ml",
   "language": "python",
   "name": "python3"
  },
  "language_info": {
   "codemirror_mode": {
    "name": "ipython",
    "version": 3
   },
   "file_extension": ".py",
   "mimetype": "text/x-python",
   "name": "python",
   "nbconvert_exporter": "python",
   "pygments_lexer": "ipython3",
   "version": "3.8.18"
  }
 },
 "nbformat": 4,
 "nbformat_minor": 2
}
