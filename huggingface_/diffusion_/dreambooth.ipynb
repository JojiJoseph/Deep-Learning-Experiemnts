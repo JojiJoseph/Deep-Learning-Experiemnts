{
 "cells": [
  {
   "cell_type": "code",
   "execution_count": null,
   "metadata": {},
   "outputs": [],
   "source": [
    "import torch\n",
    "from diffusers import StableDiffusionPipeline\n",
    "from torch import autocast\n",
    "\n",
    "\n",
    "\n"
   ]
  },
  {
   "cell_type": "code",
   "execution_count": null,
   "metadata": {},
   "outputs": [],
   "source": [
    "pipe = StableDiffusionPipeline.from_pretrained(\"lambdalabs/dreambooth-avatar\", torch_dtype=torch.float16)  \n",
    "pipe = pipe.to(\"cuda\")\n",
    "\n",
    "prompt = \"Elon Musk, avatarart style\"\n",
    "scale = 7.5\n",
    "n_samples = 4\n",
    "\n",
    "with autocast(\"cuda\"):\n",
    "  images = pipe(n_samples*[prompt], guidance_scale=scale).images\n",
    "\n",
    "import matplotlib.pyplot as plt\n",
    "plt.subplots(1, n_samples, figsize=(4*n_samples, 4))\n",
    "for i, image in enumerate(images):\n",
    "  plt.subplot(1, n_samples, i+1)\n",
    "  plt.imshow(image)\n",
    "  plt.axis(\"off\")\n"
   ]
  }
 ],
 "metadata": {
  "kernelspec": {
   "display_name": "ml",
   "language": "python",
   "name": "python3"
  },
  "language_info": {
   "codemirror_mode": {
    "name": "ipython",
    "version": 3
   },
   "file_extension": ".py",
   "mimetype": "text/x-python",
   "name": "python",
   "nbconvert_exporter": "python",
   "pygments_lexer": "ipython3",
   "version": "3.8.18"
  }
 },
 "nbformat": 4,
 "nbformat_minor": 2
}
