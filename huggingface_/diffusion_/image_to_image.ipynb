{
 "cells": [
  {
   "cell_type": "code",
   "execution_count": null,
   "metadata": {},
   "outputs": [],
   "source": [
    "import torch\n",
    "from diffusers import AutoPipelineForImage2Image\n",
    "from diffusers.utils import make_image_grid, load_image\n",
    "\n",
    "pipeline = AutoPipelineForImage2Image.from_pretrained(\n",
    "    \"runwayml/stable-diffusion-v1-5\", torch_dtype=torch.float16, variant=\"fp16\", use_safetensors=True\n",
    ")\n",
    "pipeline.enable_model_cpu_offload()\n",
    "# remove following line if xFormers is not installed or you have PyTorch 2.0 or higher installed\n",
    "# pipeline.enable_xformers_memory_efficient_attention()\n",
    "\n",
    "# prepare image\n",
    "url = \"https://huggingface.co/datasets/huggingface/documentation-images/resolve/main/diffusers/img2img-sdxl-init.png\"\n",
    "init_image = load_image(url)\n",
    "\n",
    "prompt = \"Astronaut in a jungle, cold color palette, muted colors, detailed, 8k\"\n",
    "# prompt = \"A group of astronauts in jungle, they are dancing.\"\n",
    "\n",
    "# pass prompt and image to pipeline\n",
    "images = []\n",
    "for strength in [0.1, 0.2, 0.3, 0.4, 0.5,0.6,0.7,0.8,0.9]:\n",
    "    image = pipeline(prompt, image=init_image, strength=strength, guidance_scale=10, negative_prompt=\"disfigured, ugly, blurry\").images[0]\n",
    "    images.append(image)\n",
    "make_image_grid([init_image] + images, rows=2, cols=5)\n"
   ]
  }
 ],
 "metadata": {
  "kernelspec": {
   "display_name": "ml",
   "language": "python",
   "name": "python3"
  },
  "language_info": {
   "codemirror_mode": {
    "name": "ipython",
    "version": 3
   },
   "file_extension": ".py",
   "mimetype": "text/x-python",
   "name": "python",
   "nbconvert_exporter": "python",
   "pygments_lexer": "ipython3",
   "version": "3.8.18"
  }
 },
 "nbformat": 4,
 "nbformat_minor": 2
}
