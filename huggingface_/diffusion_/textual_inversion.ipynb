{
 "cells": [
  {
   "cell_type": "code",
   "execution_count": null,
   "metadata": {},
   "outputs": [],
   "source": [
    "import torch\n",
    "from diffusers import StableDiffusionPipeline\n",
    "from diffusers.utils import make_image_grid"
   ]
  },
  {
   "cell_type": "code",
   "execution_count": null,
   "metadata": {},
   "outputs": [],
   "source": [
    "pretrained_model_name_or_path = \"runwayml/stable-diffusion-v1-5\"\n",
    "repo_id_embeds = \"sd-concepts-library/cat-toy\""
   ]
  },
  {
   "cell_type": "code",
   "execution_count": null,
   "metadata": {},
   "outputs": [],
   "source": [
    "pipeline = StableDiffusionPipeline.from_pretrained(\n",
    "    pretrained_model_name_or_path, torch_dtype=torch.float16, use_safetensors=True\n",
    ").to(\"cuda\")\n",
    "\n",
    "# pipeline.load_textual_inversion(repo_id_embeds)\n",
    "print(pipeline.text_encoder.text_model.embeddings.token_embedding)\n",
    "print(tokens := pipeline.tokenizer.encode(\"a grafitti in a favela wall with a <cat-toy> on it\"))\n",
    "for token in tokens:\n",
    "    print(token, pipeline.tokenizer.decode(token))"
   ]
  },
  {
   "cell_type": "code",
   "execution_count": null,
   "metadata": {},
   "outputs": [],
   "source": [
    "prompt = \"a grafitti in a favela wall with a <cat-toy> on it\"\n",
    "\n",
    "num_samples_per_row = 2\n",
    "num_rows = 2"
   ]
  },
  {
   "cell_type": "code",
   "execution_count": null,
   "metadata": {},
   "outputs": [],
   "source": [
    "all_images = []\n",
    "for _ in range(num_rows):\n",
    "    images = pipeline(prompt, num_images_per_prompt=num_samples_per_row, num_inference_steps=50, guidance_scale=7.5).images\n",
    "    all_images.extend(images)\n",
    "\n",
    "grid = make_image_grid(all_images, num_rows, num_samples_per_row)\n",
    "grid"
   ]
  },
  {
   "cell_type": "code",
   "execution_count": null,
   "metadata": {},
   "outputs": [],
   "source": [
    "pipeline.load_textual_inversion(repo_id_embeds)\n",
    "print(pipeline.text_encoder.text_model.embeddings.token_embedding)\n",
    "print(tokens := pipeline.tokenizer.encode(\"a grafitti in a favela wall with a <cat-toy> on it\"))\n",
    "for token in tokens:\n",
    "    print(token, pipeline.tokenizer.decode(token))\n",
    "all_images = []\n",
    "for _ in range(num_rows):\n",
    "    images = pipeline(prompt, num_images_per_prompt=num_samples_per_row, num_inference_steps=50, guidance_scale=7.5).images\n",
    "    all_images.extend(images)\n",
    "\n",
    "grid = make_image_grid(all_images, num_rows, num_samples_per_row)\n",
    "grid"
   ]
  },
  {
   "cell_type": "code",
   "execution_count": null,
   "metadata": {},
   "outputs": [],
   "source": [
    "# pipeline.load_textual_inversion(repo_id_embeds)\n",
    "print(pipeline.text_encoder.text_model.embeddings.token_embedding)\n",
    "print(tokens := pipeline.tokenizer.encode(\"A cute cat\"))\n",
    "for token in tokens:\n",
    "    print(token, pipeline.tokenizer.decode(token))\n",
    "all_images = []\n",
    "for _ in range(num_rows):\n",
    "    images = pipeline(prompt=\"A cute cat\", num_images_per_prompt=num_samples_per_row, num_inference_steps=50, guidance_scale=7.5).images\n",
    "    all_images.extend(images)\n",
    "\n",
    "grid = make_image_grid(all_images, num_rows, num_samples_per_row)\n",
    "grid"
   ]
  },
  {
   "cell_type": "markdown",
   "metadata": {},
   "source": [
    "for token in tokens:\n",
    "    print(token, pipeline.tokenizer.decode(token))\n",
    "all_images = []\n",
    "for _ in range(num_rows):\n",
    "    images = pipeline(prompt=\"A cute cat\", num_images_per_prompt=num_samples_per_row, num_inference_steps=50, guidance_scale=7.5).images\n",
    "    all_images.extend(images)\n",
    "\n",
    "grid = make_image_grid(all_images, num_rows, num_samples_per_row)\n",
    "grid"
   ]
  },
  {
   "cell_type": "markdown",
   "metadata": {},
   "source": [
    "for token in tokens:\n",
    "    print(token, pipeline.tokenizer.decode(token))\n",
    "all_images = []\n",
    "for _ in range(num_rows):\n",
    "    images = pipeline(prompt=\"A cute cat\", num_images_per_prompt=num_samples_per_row, num_inference_steps=50, guidance_scale=7.5).images\n",
    "    all_images.extend(images)\n",
    "\n",
    "grid = make_image_grid(all_images, num_rows, num_samples_per_row)\n",
    "grid"
   ]
  },
  {
   "cell_type": "code",
   "execution_count": null,
   "metadata": {},
   "outputs": [],
   "source": [
    "# Interchange cat and dog\n",
    "print(pipeline.tokenizer.encode(\"cat\")) # 2368\n",
    "print(pipeline.tokenizer.encode(\"dog\")) # 1929\n",
    "cat_embedding = pipeline.text_encoder.text_model.embeddings.token_embedding.weight[2368].data.clone()\n",
    "pipeline.text_encoder.text_model.embeddings.token_embedding.weight[2368].data.copy_(pipeline.text_encoder.text_model.embeddings.token_embedding.weight[1929])\n",
    "pipeline.text_encoder.text_model.embeddings.token_embedding.weight[1929].data.copy_(cat_embedding)\n",
    "all_images = []\n",
    "for _ in range(num_rows):\n",
    "    images = pipeline(prompt=\"a cute dog\", num_images_per_prompt=num_samples_per_row, num_inference_steps=50, guidance_scale=7.5).images\n",
    "    all_images.extend(images)\n",
    "\n",
    "grid = make_image_grid(all_images, num_rows, num_samples_per_row)\n",
    "grid"
   ]
  },
  {
   "cell_type": "code",
   "execution_count": null,
   "metadata": {},
   "outputs": [],
   "source": [
    "# Shall we add a catdog?\n",
    "pipeline.tokenizer.add_tokens([\"catdog\"])\n",
    "print(pipeline.tokenizer.encode(\"a cute catdog\")) # 3329)\n",
    "data = pipeline.text_encoder.text_model.embeddings.token_embedding.weight.data.clone()\n",
    "data = torch.cat([data, ((data[2368] + data[1929]))[None]], dim=0)\n",
    "\n",
    "pipeline.text_encoder.text_model.embeddings.token_embedding.weight.data = data\n",
    "# pipeline.text_encoder.text_model.embeddings.token_embedding.weight[49409].data.copy_(data[1929] + data[2368])\n",
    "# cat_embedding = pipeline.text_encoder.text_model.embeddings.token_embedding.weight[2368].data.clone()\n",
    "# pipeline.text_encoder.text_model.embeddings.token_embedding.weight[2368].data.copy_(pipeline.text_encoder.text_model.embeddings.token_embedding.weight[1929])\n",
    "# pipeline.text_encoder.text_model.embeddings.token_embedding.weight[1929].data.copy_(cat_embedding)\n",
    "tokens = pipeline.tokenizer.encode(\"a cute catdog\") # 50265\n",
    "for token in tokens:\n",
    "    print(token, pipeline.tokenizer.decode(token))\n",
    "all_images = []\n",
    "for _ in range(num_rows):\n",
    "    images = pipeline(prompt=\"a cute catdog\", num_images_per_prompt=num_samples_per_row, num_inference_steps=50, guidance_scale=7.5).images\n",
    "    all_images.extend(images)\n",
    "\n",
    "grid = make_image_grid(all_images, num_rows, num_samples_per_row)\n",
    "grid"
   ]
  }
 ],
 "metadata": {
  "kernelspec": {
   "display_name": "ml",
   "language": "python",
   "name": "python3"
  },
  "language_info": {
   "codemirror_mode": {
    "name": "ipython",
    "version": 3
   },
   "file_extension": ".py",
   "mimetype": "text/x-python",
   "name": "python",
   "nbconvert_exporter": "python",
   "pygments_lexer": "ipython3",
   "version": "3.8.18"
  }
 },
 "nbformat": 4,
 "nbformat_minor": 2
}
